{
 "cells": [
  {
   "cell_type": "code",
   "execution_count": 5,
   "metadata": {},
   "outputs": [],
   "source": [
    "import numpy as np"
   ]
  },
  {
   "cell_type": "code",
   "execution_count": 13,
   "metadata": {},
   "outputs": [],
   "source": [
    "data = np.loadtxt('Exercise 1.txt', delimiter=',' )"
   ]
  },
  {
   "cell_type": "code",
   "execution_count": 16,
   "metadata": {},
   "outputs": [
    {
     "data": {
      "text/plain": [
       "array([[ 6.1101 , 17.592  ],\n",
       "       [ 5.5277 ,  9.1302 ],\n",
       "       [ 8.5186 , 13.662  ],\n",
       "       [ 7.0032 , 11.854  ],\n",
       "       [ 5.8598 ,  6.8233 ],\n",
       "       [ 8.3829 , 11.886  ],\n",
       "       [ 7.4764 ,  4.3483 ],\n",
       "       [ 8.5781 , 12.     ],\n",
       "       [ 6.4862 ,  6.5987 ],\n",
       "       [ 5.0546 ,  3.8166 ],\n",
       "       [ 5.7107 ,  3.2522 ],\n",
       "       [14.164  , 15.505  ],\n",
       "       [ 5.734  ,  3.1551 ],\n",
       "       [ 8.4084 ,  7.2258 ],\n",
       "       [ 5.6407 ,  0.71618],\n",
       "       [ 5.3794 ,  3.5129 ],\n",
       "       [ 6.3654 ,  5.3048 ],\n",
       "       [ 5.1301 ,  0.56077],\n",
       "       [ 6.4296 ,  3.6518 ],\n",
       "       [ 7.0708 ,  5.3893 ],\n",
       "       [ 6.1891 ,  3.1386 ],\n",
       "       [20.27   , 21.767  ],\n",
       "       [ 5.4901 ,  4.263  ],\n",
       "       [ 6.3261 ,  5.1875 ],\n",
       "       [ 5.5649 ,  3.0825 ],\n",
       "       [18.945  , 22.638  ],\n",
       "       [12.828  , 13.501  ],\n",
       "       [10.957  ,  7.0467 ],\n",
       "       [13.176  , 14.692  ],\n",
       "       [22.203  , 24.147  ],\n",
       "       [ 5.2524 , -1.22   ],\n",
       "       [ 6.5894 ,  5.9966 ],\n",
       "       [ 9.2482 , 12.134  ],\n",
       "       [ 5.8918 ,  1.8495 ],\n",
       "       [ 8.2111 ,  6.5426 ],\n",
       "       [ 7.9334 ,  4.5623 ],\n",
       "       [ 8.0959 ,  4.1164 ],\n",
       "       [ 5.6063 ,  3.3928 ],\n",
       "       [12.836  , 10.117  ],\n",
       "       [ 6.3534 ,  5.4974 ],\n",
       "       [ 5.4069 ,  0.55657],\n",
       "       [ 6.8825 ,  3.9115 ],\n",
       "       [11.708  ,  5.3854 ],\n",
       "       [ 5.7737 ,  2.4406 ],\n",
       "       [ 7.8247 ,  6.7318 ],\n",
       "       [ 7.0931 ,  1.0463 ],\n",
       "       [ 5.0702 ,  5.1337 ],\n",
       "       [ 5.8014 ,  1.844  ],\n",
       "       [11.7    ,  8.0043 ],\n",
       "       [ 5.5416 ,  1.0179 ],\n",
       "       [ 7.5402 ,  6.7504 ],\n",
       "       [ 5.3077 ,  1.8396 ],\n",
       "       [ 7.4239 ,  4.2885 ],\n",
       "       [ 7.6031 ,  4.9981 ],\n",
       "       [ 6.3328 ,  1.4233 ],\n",
       "       [ 6.3589 , -1.4211 ],\n",
       "       [ 6.2742 ,  2.4756 ],\n",
       "       [ 5.6397 ,  4.6042 ],\n",
       "       [ 9.3102 ,  3.9624 ],\n",
       "       [ 9.4536 ,  5.4141 ],\n",
       "       [ 8.8254 ,  5.1694 ],\n",
       "       [ 5.1793 , -0.74279],\n",
       "       [21.279  , 17.929  ],\n",
       "       [14.908  , 12.054  ],\n",
       "       [18.959  , 17.054  ],\n",
       "       [ 7.2182 ,  4.8852 ],\n",
       "       [ 8.2951 ,  5.7442 ],\n",
       "       [10.236  ,  7.7754 ],\n",
       "       [ 5.4994 ,  1.0173 ],\n",
       "       [20.341  , 20.992  ],\n",
       "       [10.136  ,  6.6799 ],\n",
       "       [ 7.3345 ,  4.0259 ],\n",
       "       [ 6.0062 ,  1.2784 ],\n",
       "       [ 7.2259 ,  3.3411 ],\n",
       "       [ 5.0269 , -2.6807 ],\n",
       "       [ 6.5479 ,  0.29678],\n",
       "       [ 7.5386 ,  3.8845 ],\n",
       "       [ 5.0365 ,  5.7014 ],\n",
       "       [10.274  ,  6.7526 ],\n",
       "       [ 5.1077 ,  2.0576 ],\n",
       "       [ 5.7292 ,  0.47953],\n",
       "       [ 5.1884 ,  0.20421],\n",
       "       [ 6.3557 ,  0.67861],\n",
       "       [ 9.7687 ,  7.5435 ],\n",
       "       [ 6.5159 ,  5.3436 ],\n",
       "       [ 8.5172 ,  4.2415 ],\n",
       "       [ 9.1802 ,  6.7981 ],\n",
       "       [ 6.002  ,  0.92695],\n",
       "       [ 5.5204 ,  0.152  ],\n",
       "       [ 5.0594 ,  2.8214 ],\n",
       "       [ 5.7077 ,  1.8451 ],\n",
       "       [ 7.6366 ,  4.2959 ],\n",
       "       [ 5.8707 ,  7.2029 ],\n",
       "       [ 5.3054 ,  1.9869 ],\n",
       "       [ 8.2934 ,  0.14454],\n",
       "       [13.394  ,  9.0551 ],\n",
       "       [ 5.4369 ,  0.61705]])"
      ]
     },
     "execution_count": 16,
     "metadata": {},
     "output_type": "execute_result"
    }
   ],
   "source": [
    "data"
   ]
  },
  {
   "cell_type": "code",
   "execution_count": 17,
   "metadata": {},
   "outputs": [],
   "source": [
    "x = np.c_[data[:,0], np.ones(data.shape[0])]"
   ]
  },
  {
   "cell_type": "code",
   "execution_count": 18,
   "metadata": {},
   "outputs": [],
   "source": [
    "y = np.c_[data[:,1]]"
   ]
  },
  {
   "cell_type": "code",
   "execution_count": 19,
   "metadata": {},
   "outputs": [
    {
     "data": {
      "text/plain": [
       "array([[ 6.1101,  1.    ],\n",
       "       [ 5.5277,  1.    ],\n",
       "       [ 8.5186,  1.    ],\n",
       "       [ 7.0032,  1.    ],\n",
       "       [ 5.8598,  1.    ],\n",
       "       [ 8.3829,  1.    ],\n",
       "       [ 7.4764,  1.    ],\n",
       "       [ 8.5781,  1.    ],\n",
       "       [ 6.4862,  1.    ],\n",
       "       [ 5.0546,  1.    ],\n",
       "       [ 5.7107,  1.    ],\n",
       "       [14.164 ,  1.    ],\n",
       "       [ 5.734 ,  1.    ],\n",
       "       [ 8.4084,  1.    ],\n",
       "       [ 5.6407,  1.    ],\n",
       "       [ 5.3794,  1.    ],\n",
       "       [ 6.3654,  1.    ],\n",
       "       [ 5.1301,  1.    ],\n",
       "       [ 6.4296,  1.    ],\n",
       "       [ 7.0708,  1.    ],\n",
       "       [ 6.1891,  1.    ],\n",
       "       [20.27  ,  1.    ],\n",
       "       [ 5.4901,  1.    ],\n",
       "       [ 6.3261,  1.    ],\n",
       "       [ 5.5649,  1.    ],\n",
       "       [18.945 ,  1.    ],\n",
       "       [12.828 ,  1.    ],\n",
       "       [10.957 ,  1.    ],\n",
       "       [13.176 ,  1.    ],\n",
       "       [22.203 ,  1.    ],\n",
       "       [ 5.2524,  1.    ],\n",
       "       [ 6.5894,  1.    ],\n",
       "       [ 9.2482,  1.    ],\n",
       "       [ 5.8918,  1.    ],\n",
       "       [ 8.2111,  1.    ],\n",
       "       [ 7.9334,  1.    ],\n",
       "       [ 8.0959,  1.    ],\n",
       "       [ 5.6063,  1.    ],\n",
       "       [12.836 ,  1.    ],\n",
       "       [ 6.3534,  1.    ],\n",
       "       [ 5.4069,  1.    ],\n",
       "       [ 6.8825,  1.    ],\n",
       "       [11.708 ,  1.    ],\n",
       "       [ 5.7737,  1.    ],\n",
       "       [ 7.8247,  1.    ],\n",
       "       [ 7.0931,  1.    ],\n",
       "       [ 5.0702,  1.    ],\n",
       "       [ 5.8014,  1.    ],\n",
       "       [11.7   ,  1.    ],\n",
       "       [ 5.5416,  1.    ],\n",
       "       [ 7.5402,  1.    ],\n",
       "       [ 5.3077,  1.    ],\n",
       "       [ 7.4239,  1.    ],\n",
       "       [ 7.6031,  1.    ],\n",
       "       [ 6.3328,  1.    ],\n",
       "       [ 6.3589,  1.    ],\n",
       "       [ 6.2742,  1.    ],\n",
       "       [ 5.6397,  1.    ],\n",
       "       [ 9.3102,  1.    ],\n",
       "       [ 9.4536,  1.    ],\n",
       "       [ 8.8254,  1.    ],\n",
       "       [ 5.1793,  1.    ],\n",
       "       [21.279 ,  1.    ],\n",
       "       [14.908 ,  1.    ],\n",
       "       [18.959 ,  1.    ],\n",
       "       [ 7.2182,  1.    ],\n",
       "       [ 8.2951,  1.    ],\n",
       "       [10.236 ,  1.    ],\n",
       "       [ 5.4994,  1.    ],\n",
       "       [20.341 ,  1.    ],\n",
       "       [10.136 ,  1.    ],\n",
       "       [ 7.3345,  1.    ],\n",
       "       [ 6.0062,  1.    ],\n",
       "       [ 7.2259,  1.    ],\n",
       "       [ 5.0269,  1.    ],\n",
       "       [ 6.5479,  1.    ],\n",
       "       [ 7.5386,  1.    ],\n",
       "       [ 5.0365,  1.    ],\n",
       "       [10.274 ,  1.    ],\n",
       "       [ 5.1077,  1.    ],\n",
       "       [ 5.7292,  1.    ],\n",
       "       [ 5.1884,  1.    ],\n",
       "       [ 6.3557,  1.    ],\n",
       "       [ 9.7687,  1.    ],\n",
       "       [ 6.5159,  1.    ],\n",
       "       [ 8.5172,  1.    ],\n",
       "       [ 9.1802,  1.    ],\n",
       "       [ 6.002 ,  1.    ],\n",
       "       [ 5.5204,  1.    ],\n",
       "       [ 5.0594,  1.    ],\n",
       "       [ 5.7077,  1.    ],\n",
       "       [ 7.6366,  1.    ],\n",
       "       [ 5.8707,  1.    ],\n",
       "       [ 5.3054,  1.    ],\n",
       "       [ 8.2934,  1.    ],\n",
       "       [13.394 ,  1.    ],\n",
       "       [ 5.4369,  1.    ]])"
      ]
     },
     "execution_count": 19,
     "metadata": {},
     "output_type": "execute_result"
    }
   ],
   "source": [
    "x"
   ]
  },
  {
   "cell_type": "code",
   "execution_count": 20,
   "metadata": {},
   "outputs": [
    {
     "data": {
      "text/plain": [
       "array([[17.592  ],\n",
       "       [ 9.1302 ],\n",
       "       [13.662  ],\n",
       "       [11.854  ],\n",
       "       [ 6.8233 ],\n",
       "       [11.886  ],\n",
       "       [ 4.3483 ],\n",
       "       [12.     ],\n",
       "       [ 6.5987 ],\n",
       "       [ 3.8166 ],\n",
       "       [ 3.2522 ],\n",
       "       [15.505  ],\n",
       "       [ 3.1551 ],\n",
       "       [ 7.2258 ],\n",
       "       [ 0.71618],\n",
       "       [ 3.5129 ],\n",
       "       [ 5.3048 ],\n",
       "       [ 0.56077],\n",
       "       [ 3.6518 ],\n",
       "       [ 5.3893 ],\n",
       "       [ 3.1386 ],\n",
       "       [21.767  ],\n",
       "       [ 4.263  ],\n",
       "       [ 5.1875 ],\n",
       "       [ 3.0825 ],\n",
       "       [22.638  ],\n",
       "       [13.501  ],\n",
       "       [ 7.0467 ],\n",
       "       [14.692  ],\n",
       "       [24.147  ],\n",
       "       [-1.22   ],\n",
       "       [ 5.9966 ],\n",
       "       [12.134  ],\n",
       "       [ 1.8495 ],\n",
       "       [ 6.5426 ],\n",
       "       [ 4.5623 ],\n",
       "       [ 4.1164 ],\n",
       "       [ 3.3928 ],\n",
       "       [10.117  ],\n",
       "       [ 5.4974 ],\n",
       "       [ 0.55657],\n",
       "       [ 3.9115 ],\n",
       "       [ 5.3854 ],\n",
       "       [ 2.4406 ],\n",
       "       [ 6.7318 ],\n",
       "       [ 1.0463 ],\n",
       "       [ 5.1337 ],\n",
       "       [ 1.844  ],\n",
       "       [ 8.0043 ],\n",
       "       [ 1.0179 ],\n",
       "       [ 6.7504 ],\n",
       "       [ 1.8396 ],\n",
       "       [ 4.2885 ],\n",
       "       [ 4.9981 ],\n",
       "       [ 1.4233 ],\n",
       "       [-1.4211 ],\n",
       "       [ 2.4756 ],\n",
       "       [ 4.6042 ],\n",
       "       [ 3.9624 ],\n",
       "       [ 5.4141 ],\n",
       "       [ 5.1694 ],\n",
       "       [-0.74279],\n",
       "       [17.929  ],\n",
       "       [12.054  ],\n",
       "       [17.054  ],\n",
       "       [ 4.8852 ],\n",
       "       [ 5.7442 ],\n",
       "       [ 7.7754 ],\n",
       "       [ 1.0173 ],\n",
       "       [20.992  ],\n",
       "       [ 6.6799 ],\n",
       "       [ 4.0259 ],\n",
       "       [ 1.2784 ],\n",
       "       [ 3.3411 ],\n",
       "       [-2.6807 ],\n",
       "       [ 0.29678],\n",
       "       [ 3.8845 ],\n",
       "       [ 5.7014 ],\n",
       "       [ 6.7526 ],\n",
       "       [ 2.0576 ],\n",
       "       [ 0.47953],\n",
       "       [ 0.20421],\n",
       "       [ 0.67861],\n",
       "       [ 7.5435 ],\n",
       "       [ 5.3436 ],\n",
       "       [ 4.2415 ],\n",
       "       [ 6.7981 ],\n",
       "       [ 0.92695],\n",
       "       [ 0.152  ],\n",
       "       [ 2.8214 ],\n",
       "       [ 1.8451 ],\n",
       "       [ 4.2959 ],\n",
       "       [ 7.2029 ],\n",
       "       [ 1.9869 ],\n",
       "       [ 0.14454],\n",
       "       [ 9.0551 ],\n",
       "       [ 0.61705]])"
      ]
     },
     "execution_count": 20,
     "metadata": {},
     "output_type": "execute_result"
    }
   ],
   "source": [
    "y"
   ]
  },
  {
   "cell_type": "code",
   "execution_count": 24,
   "metadata": {},
   "outputs": [],
   "source": [
    "import matplotlib.pyplot as plt\n",
    "%matplotlib inline"
   ]
  },
  {
   "cell_type": "code",
   "execution_count": 25,
   "metadata": {},
   "outputs": [
    {
     "data": {
      "text/plain": [
       "<matplotlib.collections.PathCollection at 0xee9f5d0>"
      ]
     },
     "execution_count": 25,
     "metadata": {},
     "output_type": "execute_result"
    },
    {
     "data": {
      "image/png": "[encoded data removed]",
      "text/plain": [
       "<Figure size 432x288 with 1 Axes>"
      ]
     },
     "metadata": {
      "needs_background": "light"
     },
     "output_type": "display_data"
    }
   ],
   "source": [
    "plt.scatter(x[:,0], y)"
   ]
  },
  {
   "cell_type": "code",
   "execution_count": 32,
   "metadata": {},
   "outputs": [],
   "source": [
    "def train(x, y):\n",
    "    m = y.size\n",
    "    iteration = 30\n",
    "    theta = [[0], [0]]\n",
    "    cost_function = np.zeros(iteration)\n",
    "    \n",
    "    for i in range(iteration):\n",
    "        h = x @ theta\n",
    "        theta =update_weight(h, theta, m, x)\n",
    "        cost_function[i] = cost(x, theta, m)\n",
    "        print('The cost function is ', cost_function[i])\n",
    "    return theta, cost_function\n",
    "\n",
    "def update_weight(h, theta, m, x):\n",
    "    alpha = 0.001\n",
    "    theta = theta - alpha * (1/m * (x.T @ (h - y)))\n",
    "    return theta\n",
    "\n",
    "def cost(x, theta, m):\n",
    "    h = x @ theta\n",
    "    cost_value = 0\n",
    "    cost_value = (1/2*m) * np.sum(np.square(h - y))\n",
    "    return cost_value"
   ]
  },
  {
   "cell_type": "code",
   "execution_count": 33,
   "metadata": {},
   "outputs": [
    {
     "name": "stdout",
     "output_type": "stream",
     "text": [
      "The cost function is  262959.1541978751\n",
      "The cost function is  230265.51016091555\n",
      "The cost function is  202726.449227858\n",
      "The cost function is  179529.1628243341\n",
      "The cost function is  159989.01142274906\n",
      "The cost function is  143529.31399691876\n",
      "The cost function is  129664.32440954419\n",
      "The cost function is  117984.89219581585\n",
      "The cost function is  108146.38444976308\n",
      "The cost function is  99858.5122676705\n",
      "The cost function is  92876.7614253714\n",
      "The cost function is  86995.17432318098\n",
      "The cost function is  82040.27012162535\n",
      "The cost function is  77865.92359049272\n",
      "The cost function is  74349.05149493192\n",
      "The cost function is  71385.97918080026\n",
      "The cost function is  68889.38010093218\n",
      "The cost function is  66785.697937204\n",
      "The cost function is  65012.975219489024\n",
      "The cost function is  63519.02434237733\n",
      "The cost function is  62259.88698810968\n",
      "The cost function is  61198.53647792081\n",
      "The cost function is  60303.78474522961\n",
      "The cost function is  59549.36166454604\n",
      "The cost function is  58913.13955790211\n",
      "The cost function is  58376.47998625224\n",
      "The cost function is  57923.683543138184\n",
      "The cost function is  57541.526408537706\n",
      "The cost function is  57218.86998197645\n",
      "The cost function is  56946.332071279554\n"
     ]
    }
   ],
   "source": [
    "theta, cost_values = train(x, y)"
   ]
  },
  {
   "cell_type": "code",
   "execution_count": 34,
   "metadata": {},
   "outputs": [
    {
     "data": {
      "text/plain": [
       "[<matplotlib.lines.Line2D at 0xeef6df0>]"
      ]
     },
     "execution_count": 34,
     "metadata": {},
     "output_type": "execute_result"
    },
    {
     "data": {
      "image/png": "[encoded data removed]",
      "text/plain": [
       "<Figure size 432x288 with 1 Axes>"
      ]
     },
     "metadata": {
      "needs_background": "light"
     },
     "output_type": "display_data"
    }
   ],
   "source": [
    "plt.plot(cost_values)"
   ]
  },
  {
   "cell_type": "code",
   "execution_count": 35,
   "metadata": {},
   "outputs": [
    {
     "data": {
      "text/plain": [
       "[<matplotlib.lines.Line2D at 0xf200f70>]"
      ]
     },
     "execution_count": 35,
     "metadata": {},
     "output_type": "execute_result"
    },
    {
     "data": {
      "image/png": "[encoded data removed]",
      "text/plain": [
       "<Figure size 432x288 with 1 Axes>"
      ]
     },
     "metadata": {
      "needs_background": "light"
     },
     "output_type": "display_data"
    }
   ],
   "source": [
    "x_plot = np.arange(5, 23)\n",
    "y_plot = theta[0] * x_plot + theta[1]\n",
    "\n",
    "plt.scatter(x[:,0], y, s=30, c='r', marker='o', linewidths=1)\n",
    "plt.plot(x_plot, y_plot)"
   ]
  },
  {
   "cell_type": "code",
   "execution_count": null,
   "metadata": {},
   "outputs": [],
   "source": []
  }
 ],
 "metadata": {
  "kernelspec": {
   "display_name": "Python 3",
   "language": "python",
   "name": "python3"
  },
  "language_info": {
   "codemirror_mode": {
    "name": "ipython",
    "version": 3
   },
   "file_extension": ".py",
   "mimetype": "text/x-python",
   "name": "python",
   "nbconvert_exporter": "python",
   "pygments_lexer": "ipython3",
   "version": "3.7.1"
  }
 },
 "nbformat": 4,
 "nbformat_minor": 2
}
